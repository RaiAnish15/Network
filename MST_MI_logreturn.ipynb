{
  "nbformat": 4,
  "nbformat_minor": 0,
  "metadata": {
    "colab": {
      "provenance": [],
      "authorship_tag": "ABX9TyMs2DyEm4bPvczy8VDVpZKc",
      "include_colab_link": true
    },
    "kernelspec": {
      "name": "python3",
      "display_name": "Python 3"
    },
    "language_info": {
      "name": "python"
    }
  },
  "cells": [
    {
      "cell_type": "markdown",
      "metadata": {
        "id": "view-in-github",
        "colab_type": "text"
      },
      "source": [
        "<a href=\"https://colab.research.google.com/github/RaiAnish15/Network/blob/main/MST_MI_logreturn.ipynb\" target=\"_parent\"><img src=\"https://colab.research.google.com/assets/colab-badge.svg\" alt=\"Open In Colab\"/></a>"
      ]
    },
    {
      "cell_type": "code",
      "execution_count": null,
      "metadata": {
        "collapsed": true,
        "id": "dm_XWjf5Z1Ck"
      },
      "outputs": [],
      "source": [
        "\n",
        "import numpy as np\n",
        "import pandas as pd\n",
        "import networkx as nx\n",
        "import matplotlib.pyplot as plt\n",
        "from sklearn.feature_selection import mutual_info_regression\n",
        "from sklearn.preprocessing import KBinsDiscretizer\n",
        "\n"
      ]
    },
    {
      "cell_type": "code",
      "source": [
        "import yfinance as yf\n",
        "def fetch_data(stocks, start_date, end_date):\n",
        "    \"\"\"Fetch historical data for a list of stocks.\"\"\"\n",
        "    data = yf.download(stocks, start=start_date, end=end_date)['Adj Close']\n",
        "    return data\n",
        "\n"
      ],
      "metadata": {
        "id": "6qJOw_adcg2S"
      },
      "execution_count": null,
      "outputs": []
    },
    {
      "cell_type": "code",
      "source": [
        "def compute_returns(data):\n",
        "    \"\"\"Compute daily log returns from the historical stock data.\"\"\"\n",
        "    return np.log(data / data.shift(1)).dropna()\n",
        "\n",
        "def discretize_data(data, bins=5):\n",
        "    \"\"\"Discretize continuous data into discrete bins.\"\"\"\n",
        "    discretizer = KBinsDiscretizer(n_bins=bins, encode='ordinal', strategy='uniform')\n",
        "    return discretizer.fit_transform(data.reshape(-1, 1)).ravel()\n",
        "\n",
        "def compute_mutual_information_matrix(returns):\n",
        "    \"\"\"Compute the Mutual Information matrix from stock returns.\"\"\"\n",
        "    num_stocks = returns.shape[1]\n",
        "\n",
        "    mi_matrix = np.zeros((num_stocks, num_stocks))\n",
        "\n",
        "    for i in range(num_stocks):\n",
        "        for j in range(i + 1, num_stocks):\n",
        "            X = discretize_data(returns.iloc[:, i].values)\n",
        "            y = discretize_data(returns.iloc[:, j].values)\n",
        "            mi = mutual_info_regression(X.reshape(-1, 1), y)\n",
        "            mi_matrix[i, j] = mi[0]\n",
        "            mi_matrix[j, i] = mi[0]  # Symmetric matrix\n",
        "\n",
        "    return pd.DataFrame(mi_matrix, index=returns.columns, columns=returns.columns)\n",
        "\n",
        "def create_graph_from_mi_matrix(mi_matrix, stock_names):\n",
        "    \"\"\"Create a graph from a Mutual Information matrix with stock names as labels.\"\"\"\n",
        "    G = nx.Graph()\n",
        "    num_stocks = mi_matrix.shape[0]\n",
        "\n",
        "    # Add nodes with labels\n",
        "    for i in range(num_stocks):\n",
        "        G.add_node(stock_names[i])\n",
        "\n",
        "    # Add edges with weights\n",
        "    for i in range(num_stocks):\n",
        "        for j in range(i + 1, num_stocks):\n",
        "            weight = mi_matrix.iloc[i, j]\n",
        "            G.add_edge(stock_names[i], stock_names[j], weight=weight)\n",
        "\n",
        "    return G\n",
        "\n",
        "def plot_graph(G, title=\"Minimum Spanning Tree\"):\n",
        "    \"\"\"Plot the graph with the given title.\"\"\"\n",
        "    pos = nx.spring_layout(G, seed=42)  # Define positions for visualization\n",
        "    plt.figure(figsize=(12, 10))\n",
        "    nx.draw(G, pos, with_labels=True, node_size=3000, node_color='skyblue', font_size=12, font_weight='bold', edge_color='gray', node_shape='o')\n",
        "    plt.title(title)\n",
        "    plt.show()\n",
        "\n",
        "def compute_and_plot_mst(G):\n",
        "    \"\"\"Compute and plot MST using Kruskal's and Prim's algorithms.\"\"\"\n",
        "    # Compute MST using Kruskal's Algorithm\n",
        "    mst_kruskal = nx.minimum_spanning_tree(G, algorithm='kruskal')\n",
        "    mst_graph_kruskal = nx.Graph(mst_kruskal)\n",
        "\n",
        "    # Compute MST using Prim's Algorithm\n",
        "    mst_prim = nx.minimum_spanning_tree(G, algorithm='prim')\n",
        "    mst_graph_prim = nx.Graph(mst_prim)\n",
        "\n",
        "    # Plot the MST using Kruskal's Algorithm\n",
        "    plot_graph(mst_graph_kruskal, title=\"MST Using Kruskal's Algorithm\")\n",
        "\n",
        "    # Plot the MST using Prim's Algorithm\n",
        "    plot_graph(mst_graph_prim, title=\"MST Using Prim's Algorithm\")\n",
        "\n"
      ],
      "metadata": {
        "id": "FJkItdvExryE"
      },
      "execution_count": null,
      "outputs": []
    },
    {
      "cell_type": "code",
      "source": [
        "# Example list of 20 Indian stocks\n",
        "stocks = ['RELIANCE.BO', 'TCS.BO', 'HDFCBANK.BO', 'INFY.BO', 'ICICIBANK.BO',\n",
        "          'HINDUNILVR.BO', 'SBIN.BO', 'BHARTIARTL.BO', 'KOTAKBANK.BO', 'LT.BO',\n",
        "          'WIPRO.BO', 'MARUTI.BO', 'HCLTECH.BO', 'SUNPHARMA.BO', 'AXISBANK.BO',\n",
        "          'M&M.BO', 'ASIANPAINT.BO', 'ADANIPORTS.BO', 'TATAMOTORS.BO', 'DRREDDY.BO']\n",
        "\n",
        "# Define the period for data fetching\n",
        "start_date = '2023-01-01'\n",
        "end_date = '2024-01-01'\n",
        "\n",
        "# Fetch historical data\n",
        "data = fetch_data(stocks, start_date, end_date)\n",
        "\n"
      ],
      "metadata": {
        "id": "xCRIKgIbxvf7"
      },
      "execution_count": null,
      "outputs": []
    },
    {
      "cell_type": "code",
      "source": [
        "# Compute the daily log returns from stock data\n",
        "returns = compute_returns(data)\n",
        "\n",
        "# Compute the Mutual Information matrix using the log returns\n",
        "mi_matrix = compute_mutual_information_matrix(returns)\n",
        "\n",
        "# Invert the MI matrix to prioritize largest MI in MST (use the max MI as the reference)\n",
        "mi_inverted = mi_matrix.max().max() - mi_matrix\n",
        "\n",
        "# Create graph from the inverted MI matrix\n",
        "G = create_graph_from_mi_matrix(mi_inverted, returns.columns)\n",
        "\n",
        "# Compute and plot MST\n",
        "compute_and_plot_mst(G)\n"
      ],
      "metadata": {
        "id": "RVNUt1FSx3Z7"
      },
      "execution_count": null,
      "outputs": []
    }
  ]
}