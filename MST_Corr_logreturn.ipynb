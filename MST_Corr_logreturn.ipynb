{
  "nbformat": 4,
  "nbformat_minor": 0,
  "metadata": {
    "colab": {
      "provenance": [],
      "authorship_tag": "ABX9TyPNc0Wb0Hbe7tZsNZpJrqBB",
      "include_colab_link": true
    },
    "kernelspec": {
      "name": "python3",
      "display_name": "Python 3"
    },
    "language_info": {
      "name": "python"
    }
  },
  "cells": [
    {
      "cell_type": "markdown",
      "metadata": {
        "id": "view-in-github",
        "colab_type": "text"
      },
      "source": [
        "<a href=\"https://colab.research.google.com/github/RaiAnish15/Network/blob/main/MST_Corr_logreturn.ipynb\" target=\"_parent\"><img src=\"https://colab.research.google.com/assets/colab-badge.svg\" alt=\"Open In Colab\"/></a>"
      ]
    },
    {
      "cell_type": "code",
      "source": [
        "\n",
        "import numpy as np\n",
        "import pandas as pd\n",
        "import networkx as nx\n",
        "import matplotlib.pyplot as plt\n"
      ],
      "metadata": {
        "id": "4neu0CZ5yrMu"
      },
      "execution_count": null,
      "outputs": []
    },
    {
      "cell_type": "code",
      "source": [
        "\n",
        "import yfinance as yf\n",
        "def fetch_data(stocks, start_date, end_date):\n",
        "    \"\"\"Fetch historical data for a list of stocks.\"\"\"\n",
        "    data = yf.download(stocks, start=start_date, end=end_date)['Adj Close']\n",
        "    return data\n",
        "\n"
      ],
      "metadata": {
        "id": "clSqXHd-yrP7"
      },
      "execution_count": null,
      "outputs": []
    },
    {
      "cell_type": "code",
      "source": [
        "def compute_log_returns(data):\n",
        "    \"\"\"Compute log returns from the historical stock data.\"\"\"\n",
        "    return np.log(data / data.shift(1)).dropna()\n",
        "\n",
        "def compute_correlation_matrix(log_returns):\n",
        "    \"\"\"Compute the correlation matrix from log returns.\"\"\"\n",
        "    return log_returns.corr()\n",
        "\n",
        "def compute_correlation_distance(corr_matrix):\n",
        "    \"\"\"Compute the distance matrix from the correlation matrix.\"\"\"\n",
        "    return np.sqrt(2 * (1 - corr_matrix))\n",
        "\n",
        "def create_graph_from_distance_matrix(distance_matrix, stock_names):\n",
        "    \"\"\"Create a graph from a distance matrix with stock names as labels.\"\"\"\n",
        "    G = nx.Graph()\n",
        "    num_stocks = distance_matrix.shape[0]\n",
        "\n",
        "    # Add nodes with labels\n",
        "    for i in range(num_stocks):\n",
        "        G.add_node(stock_names[i])\n",
        "\n",
        "    # Add edges with weights\n",
        "    for i in range(num_stocks):\n",
        "        for j in range(i + 1, num_stocks):\n",
        "            weight = distance_matrix.iloc[i, j]\n",
        "            G.add_edge(stock_names[i], stock_names[j], weight=weight)\n",
        "\n",
        "    return G\n",
        "\n",
        "def plot_graph(G, pos, title=\"Minimum Spanning Tree\"):\n",
        "    \"\"\"Plot the graph with the given positions.\"\"\"\n",
        "    plt.figure(figsize=(12, 10))\n",
        "    nx.draw(G, pos, with_labels=True, node_size=3000, node_color='skyblue', font_size=12, font_weight='bold', edge_color='gray', node_shape='o')\n",
        "    plt.title(title)\n",
        "    plt.show()\n",
        "\n",
        "def compute_and_plot_mst(G):\n",
        "    \"\"\"Compute and plot MST using Kruskal's and Prim's algorithms.\"\"\"\n",
        "    # Compute MST using Kruskal's Algorithm\n",
        "    mst_kruskal = nx.minimum_spanning_tree(G, algorithm='kruskal')\n",
        "    mst_graph_kruskal = nx.Graph(mst_kruskal)\n",
        "\n",
        "    # Compute MST using Prim's Algorithm\n",
        "    mst_prim = nx.minimum_spanning_tree(G, algorithm='prim')\n",
        "    mst_graph_prim = nx.Graph(mst_prim)\n",
        "\n",
        "    # Define positions for visualization\n",
        "    pos_kruskal = nx.spring_layout(mst_graph_kruskal, seed=42)\n",
        "    pos_prim = nx.spring_layout(mst_graph_prim, seed=42)\n",
        "\n",
        "    # Plot the MST using Kruskal's Algorithm\n",
        "    plot_graph(mst_graph_kruskal, pos_kruskal, title=\"MST Using Kruskal's Algorithm\")\n",
        "\n",
        "    # Plot the MST using Prim's Algorithm\n",
        "    # plot_graph(mst_graph_prim, pos_prim, title=\"MST Using Prim's Algorithm\")\n",
        "\n"
      ],
      "metadata": {
        "id": "w09ZaOASyrTf"
      },
      "execution_count": null,
      "outputs": []
    },
    {
      "cell_type": "code",
      "source": [
        "# Example list of 20 Indian stocks\n",
        "stocks = ['RELIANCE.BO', 'TCS.BO', 'HDFCBANK.BO', 'INFY.BO', 'ICICIBANK.BO',\n",
        "          'HINDUNILVR.BO', 'SBIN.BO', 'BHARTIARTL.BO', 'KOTAKBANK.BO', 'LT.BO',\n",
        "          'WIPRO.BO', 'MARUTI.BO', 'HCLTECH.BO', 'SUNPHARMA.BO', 'AXISBANK.BO',\n",
        "          'M&M.BO', 'ASIANPAINT.BO', 'ADANIPORTS.BO', 'TATAMOTORS.BO', 'DRREDDY.BO']\n",
        "\n",
        "# Define the period for data fetching\n",
        "start_date = '2023-01-01'\n",
        "end_date = '2024-01-01'\n",
        "\n",
        "# Fetch historical data\n",
        "data = fetch_data(stocks, start_date, end_date)\n",
        "\n"
      ],
      "metadata": {
        "colab": {
          "base_uri": "https://localhost:8080/"
        },
        "id": "oUelWpLhyrXX",
        "outputId": "0e93681e-6cd0-4d8b-e07e-55af5a727d0c"
      },
      "execution_count": null,
      "outputs": [
        {
          "output_type": "stream",
          "name": "stderr",
          "text": [
            "[*********************100%***********************]  20 of 20 completed\n"
          ]
        }
      ]
    },
    {
      "cell_type": "code",
      "source": [
        "# Compute the log returns from stock data\n",
        "log_returns = compute_log_returns(data)\n",
        "\n",
        "# Compute the correlation matrix from log returns\n",
        "corr_matrix = compute_correlation_matrix(log_returns)\n",
        "\n",
        "# Compute the distance matrix from the correlation matrix\n",
        "distance_matrix = compute_correlation_distance(corr_matrix)\n",
        "\n",
        "# Convert the distance matrix to DataFrame for easier handling\n",
        "distance_df = pd.DataFrame(distance_matrix, index=stocks, columns=stocks)\n",
        "\n",
        "# Create graph from distance matrix\n",
        "G = create_graph_from_distance_matrix(distance_df, stocks)\n",
        "\n",
        "# Compute and plot MST\n",
        "compute_and_plot_mst(G)\n"
      ],
      "metadata": {
        "id": "bZEBmZGry4-5"
      },
      "execution_count": null,
      "outputs": []
    }
  ]
}